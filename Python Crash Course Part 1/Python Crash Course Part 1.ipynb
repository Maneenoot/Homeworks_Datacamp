{
 "cells": [
  {
   "cell_type": "markdown",
   "metadata": {},
   "source": [
    "# Quizzzz โจทย์ฝึกท้ายบทเรียน"
   ]
  },
  {
   "cell_type": "markdown",
   "metadata": {},
   "source": [
    "### Quiz1"
   ]
  },
  {
   "cell_type": "code",
   "execution_count": 1,
   "metadata": {},
   "outputs": [
    {
     "name": "stdout",
     "output_type": "stream",
     "text": [
      "5\n"
     ]
    }
   ],
   "source": [
    "#Quiz1\n",
    "#1.เขียนคำสั่งคำนวณหาเศษเหลือจากการหาร 2345 ด้วย 13\n",
    "print(2345%13)"
   ]
  },
  {
   "cell_type": "code",
   "execution_count": 2,
   "metadata": {},
   "outputs": [
    {
     "name": "stdout",
     "output_type": "stream",
     "text": [
      "92\n"
     ]
    }
   ],
   "source": [
    "#2.เขียนคำสั่งหาคำตอบจากการหาร 1567 ด้วย 17 โดยไม่เอาเศษส่วน\n",
    "print(1567//17)"
   ]
  },
  {
   "cell_type": "code",
   "execution_count": 4,
   "metadata": {},
   "outputs": [],
   "source": [
    "#3.FirstName and Firstname เป็นตัวแปรเดียวกันหรือไม่\n",
    "#=ไม่เป็นตัวกัน ต่างกันที่ตัวเล็กใหญ่เป็น case sensitive"
   ]
  },
  {
   "cell_type": "code",
   "execution_count": 5,
   "metadata": {},
   "outputs": [],
   "source": [
    "#4.13Friday เป็นตัวแปรที่ถูกต้องหรือไม่?\n",
    "#=ไม่ถูกเพราะตัวเลขนำหน้า"
   ]
  },
  {
   "cell_type": "code",
   "execution_count": 31,
   "metadata": {},
   "outputs": [
    {
     "name": "stdout",
     "output_type": "stream",
     "text": [
      "My1_result is: 5 92\n",
      "My1_result is 5 and My2_result is 92\n"
     ]
    }
   ],
   "source": [
    "#จง Print ผลลัพธ์จากข้อ 1,2โดยใช้คำสั่ง format\n",
    "My1=2345%13\n",
    "My2=1567//17\n",
    "print('My1_result is:',My1,My2)\n",
    "print('My1_result is {} and My2_result is {}'.format(My1,My2))"
   ]
  },
  {
   "cell_type": "markdown",
   "metadata": {},
   "source": [
    "### Quiz2"
   ]
  },
  {
   "cell_type": "code",
   "execution_count": 32,
   "metadata": {},
   "outputs": [
    {
     "name": "stdout",
     "output_type": "stream",
     "text": [
      "1.0\n"
     ]
    }
   ],
   "source": [
    "#Quiz2\n",
    "#1.เขียนฟังชั่นไม่มีชื่อให้รับพารามิเตอร์ 1 ตัว และปริ้นค่านั้นหารด้วย 3 \n",
    "ICHI = lambda x: x/3\n",
    "print(ICHI(3))"
   ]
  },
  {
   "cell_type": "code",
   "execution_count": 8,
   "metadata": {},
   "outputs": [
    {
     "name": "stdout",
     "output_type": "stream",
     "text": [
      "2.25\n"
     ]
    }
   ],
   "source": [
    "#2.เขียนฟังกืชั่นธรรมดารับค่า 4 พารามิเตอร์และหาค่าเฉลี่ย\n",
    "def cube4(q,w,e,r):\n",
    "    result = (q+w+e+r)/4\n",
    "    return result\n",
    "\n",
    "print(cube4(3,1,2,3))"
   ]
  },
  {
   "cell_type": "code",
   "execution_count": 9,
   "metadata": {},
   "outputs": [
    {
     "name": "stdout",
     "output_type": "stream",
     "text": [
      "8.0\n"
     ]
    }
   ],
   "source": [
    "#3. เขียนฟังก์ชั่นไม่มีชื่อให้รับพารามิเตอร์ 3 ตัว และหาค่าเฉลี่ย\n",
    "ICHI1 = lambda x: ((x+x+x)/3)\n",
    "print(ICHI1(8))"
   ]
  },
  {
   "cell_type": "code",
   "execution_count": 10,
   "metadata": {},
   "outputs": [
    {
     "name": "stdout",
     "output_type": "stream",
     "text": [
      "2.0\n"
     ]
    }
   ],
   "source": [
    "ICHI2 = lambda a, b, c : (a + b + c) / 3\n",
    "print(ICHI2(2, 3, 1))"
   ]
  },
  {
   "cell_type": "markdown",
   "metadata": {},
   "source": [
    "### Quiz3"
   ]
  },
  {
   "cell_type": "code",
   "execution_count": 15,
   "metadata": {},
   "outputs": [
    {
     "data": {
      "text/plain": [
       "['Maneenoot', 'Jaichaliew', '26Y']"
      ]
     },
     "execution_count": 15,
     "metadata": {},
     "output_type": "execute_result"
    }
   ],
   "source": [
    "#Quiz3\n",
    "#1.สร้างลิสต์ระบุชื่อ นามสกุล อายุ ตัวเอง\n",
    "n1 = ['Maneenoot','Jaichaliew','26Y']\n",
    "n1"
   ]
  },
  {
   "cell_type": "code",
   "execution_count": 16,
   "metadata": {},
   "outputs": [],
   "source": [
    "#2.ลบอายุออกจากลิสต์\n",
    "del n1[2]\n"
   ]
  },
  {
   "cell_type": "code",
   "execution_count": 17,
   "metadata": {},
   "outputs": [
    {
     "data": {
      "text/plain": [
       "['Maneenoot', 'Jaichaliew']"
      ]
     },
     "execution_count": 17,
     "metadata": {},
     "output_type": "execute_result"
    }
   ],
   "source": [
    "n1"
   ]
  },
  {
   "cell_type": "code",
   "execution_count": 18,
   "metadata": {},
   "outputs": [],
   "source": [
    "#3.ลดอายุตัวเอง10ปีและแทรกไว้หน้าสุดของลิส\n",
    "Y = 26\n",
    "y = Y-10\n",
    "n1.insert(0,y)"
   ]
  },
  {
   "cell_type": "code",
   "execution_count": 19,
   "metadata": {},
   "outputs": [
    {
     "data": {
      "text/plain": [
       "[16, 'Maneenoot', 'Jaichaliew']"
      ]
     },
     "execution_count": 19,
     "metadata": {},
     "output_type": "execute_result"
    }
   ],
   "source": [
    "n1"
   ]
  },
  {
   "cell_type": "code",
   "execution_count": 20,
   "metadata": {},
   "outputs": [],
   "source": [
    "#4.เพิ่มส่วนสูง น้ำหนักลงในลิส โดยไปต่อท้าย\n",
    "T = 158\n",
    "W = 50\n",
    "n1.append(T)\n",
    "n1.append(W)"
   ]
  },
  {
   "cell_type": "code",
   "execution_count": 21,
   "metadata": {},
   "outputs": [
    {
     "data": {
      "text/plain": [
       "[16, 'Maneenoot', 'Jaichaliew', 158, 50]"
      ]
     },
     "execution_count": 21,
     "metadata": {},
     "output_type": "execute_result"
    }
   ],
   "source": [
    "n1"
   ]
  },
  {
   "cell_type": "code",
   "execution_count": 22,
   "metadata": {},
   "outputs": [
    {
     "name": "stdout",
     "output_type": "stream",
     "text": [
      "['Jaichaliew', 158, 50]\n"
     ]
    }
   ],
   "source": [
    "#5.Print สมาชิกในลิสตัวที่3 ถึงตัวสุดท้าย\n",
    "print(n1[-3:])"
   ]
  },
  {
   "cell_type": "markdown",
   "metadata": {},
   "source": [
    "### Quiz4"
   ]
  },
  {
   "cell_type": "code",
   "execution_count": 23,
   "metadata": {},
   "outputs": [
    {
     "data": {
      "text/plain": [
       "6"
      ]
     },
     "execution_count": 23,
     "metadata": {},
     "output_type": "execute_result"
    }
   ],
   "source": [
    "# Quiz 4\n",
    "#1.a = [[[1,3],[3,4]],[5,[5,6],[7,8]]] แล้ว a[1][1][1] คือค่าใด\n",
    "\n",
    "a = [[[1,3],[3,4]],[5,[5,6],[7,8]]]\n",
    "a[1][1][1]"
   ]
  },
  {
   "cell_type": "code",
   "execution_count": 24,
   "metadata": {},
   "outputs": [
    {
     "name": "stdout",
     "output_type": "stream",
     "text": [
      "[['a', 'ac', '55'], ['b', 'bc', '78'], ['c', 'cc', '60'], ['d', 'dc', '35']]\n"
     ]
    }
   ],
   "source": [
    "#2. เขียนชื่อนามสกุลอายุอยู่ในลิสเดียวของคน 4 คนแล้วใส่ไว้ในลิสต์ Nested List และแสดงผล\n",
    "name = [['a','ac','55'],['b','bc','78'],['c','cc','60'],['d','dc','35']]\n",
    "print(name)"
   ]
  },
  {
   "cell_type": "code",
   "execution_count": 25,
   "metadata": {},
   "outputs": [],
   "source": [
    "#3.ลบคนสุดท้ายของลิสต์นั้นออกและแสดงผล\n",
    "del name[-1]"
   ]
  },
  {
   "cell_type": "code",
   "execution_count": 26,
   "metadata": {},
   "outputs": [
    {
     "data": {
      "text/plain": [
       "[['a', 'ac', '55'], ['b', 'bc', '78'], ['c', 'cc', '60']]"
      ]
     },
     "execution_count": 26,
     "metadata": {},
     "output_type": "execute_result"
    }
   ],
   "source": [
    "name"
   ]
  },
  {
   "cell_type": "code",
   "execution_count": 27,
   "metadata": {},
   "outputs": [],
   "source": [
    "#4.เพิ่มคนที่5 เข้ามาเป็นคนแรกของ Nested List และแสดงผล\n",
    "name.insert(0,['z','zc','26'])"
   ]
  },
  {
   "cell_type": "code",
   "execution_count": 28,
   "metadata": {},
   "outputs": [
    {
     "data": {
      "text/plain": [
       "[['z', 'zc', '26'], ['a', 'ac', '55'], ['b', 'bc', '78'], ['c', 'cc', '60']]"
      ]
     },
     "execution_count": 28,
     "metadata": {},
     "output_type": "execute_result"
    }
   ],
   "source": [
    "name"
   ]
  },
  {
   "cell_type": "code",
   "execution_count": 29,
   "metadata": {},
   "outputs": [],
   "source": [
    "#5.แก้ไขน้ำหนักคนที่สอง +10 และแสดงผล\n",
    "name.insert(1,['a', 'ac', '65'])"
   ]
  },
  {
   "cell_type": "code",
   "execution_count": 30,
   "metadata": {},
   "outputs": [
    {
     "data": {
      "text/plain": [
       "[['z', 'zc', '26'],\n",
       " ['a', 'ac', '65'],\n",
       " ['a', 'ac', '55'],\n",
       " ['b', 'bc', '78'],\n",
       " ['c', 'cc', '60']]"
      ]
     },
     "execution_count": 30,
     "metadata": {},
     "output_type": "execute_result"
    }
   ],
   "source": [
    "name"
   ]
  },
  {
   "cell_type": "markdown",
   "metadata": {},
   "source": [
    "### Quiz5\n",
    "1.กำหนดให้ lst = [1,2,3,4,5,6,7,8,9,10] จงเขียน Map เพื่อหาเลขยกกำลังสามทั้งหมดของ lst ในรูปแบบ Lambda Function และฟังก์ชั่นธรรมดา  \n",
    "2.กำหนดให้ lst = [1,2,3,4,5,6,7,8,9,10] จงเขียน Filter เพื่อหาเลขใดในลิสต์เมื่อยกกำลังสองแล้วหารสองไม่ลงตัวในรูปแบบ Lambda Function และฟังก์ชั่นธรรมดา"
   ]
  },
  {
   "cell_type": "code",
   "execution_count": 43,
   "metadata": {},
   "outputs": [
    {
     "name": "stdout",
     "output_type": "stream",
     "text": [
      "[1, 8, 27, 64, 125, 216, 343, 512, 729, 1000]\n"
     ]
    }
   ],
   "source": [
    "#1.Map Lambha Function\n",
    "lst = [1,2,3,4,5,6,7,8,9,10]\n",
    "result = map(lambda x:x**3,lst)\n",
    "print(list(result))"
   ]
  },
  {
   "cell_type": "code",
   "execution_count": 44,
   "metadata": {},
   "outputs": [
    {
     "name": "stdout",
     "output_type": "stream",
     "text": [
      "[1, 8, 27, 64, 125, 216, 343, 512, 729, 1000]\n",
      "[1, 8, 27, 64, 125, 216, 343, 512, 729, 1000]\n"
     ]
    }
   ],
   "source": [
    "#1.Map ฟังก์ชั่นธรรมดา\n",
    "def func(a):\n",
    "    return a**3\n",
    "print(list(map(func,[1,2,3,4,5,6,7,8,9,10])))\n",
    "\n",
    "lst = [1,2,3,4,5,6,7,8,9,10]\n",
    "print(list(map(func,lst)))"
   ]
  },
  {
   "cell_type": "code",
   "execution_count": 45,
   "metadata": {},
   "outputs": [
    {
     "name": "stdout",
     "output_type": "stream",
     "text": [
      "[1, 3, 5, 7, 9]\n"
     ]
    }
   ],
   "source": [
    "#2.filter Lambda Function\n",
    "lst = [1,2,3,4,5,6,7,8,9,10]\n",
    "final_list = filter(lambda x: (x%2 !=0),lst)\n",
    "print(list(final_list))"
   ]
  },
  {
   "cell_type": "code",
   "execution_count": 47,
   "metadata": {},
   "outputs": [
    {
     "name": "stdout",
     "output_type": "stream",
     "text": [
      "[1, 3, 5, 7, 9]\n",
      "[1, 3, 5, 7, 9]\n"
     ]
    }
   ],
   "source": [
    "#2.filter ฟังก์ชั่นธรรมดา\n",
    "def func(x):\n",
    "    return (x%2 != 0)\n",
    "\n",
    "print(list(filter(func,[1,2,3,4,5,6,7,8,9,10])))\n",
    "\n",
    "lst = [1,2,3,4,5,6,7,8,9,10]\n",
    "print(list(filter(func,lst)))"
   ]
  },
  {
   "cell_type": "markdown",
   "metadata": {},
   "source": [
    "### Quiz6\n",
    "1.กำหนดให้ lst =[1,2,3,4,5] จงเขียน List Comprehension เพื่อนำทุกตัวใน lst ไปคุณกับ 2 และลบด้วย 1 ดพร้อมกับแสดงผล  \n",
    "2.กำหนดให้ lst =[1,2,3,4,5] จงเขียน List Comprehension เพื่อหาตัวที่หาร 3 ไม่ลงตัว และนำผลลัพธ์นั้นยกกำลังสาม พร้อมแสดงผล"
   ]
  },
  {
   "cell_type": "code",
   "execution_count": 58,
   "metadata": {},
   "outputs": [
    {
     "name": "stdout",
     "output_type": "stream",
     "text": [
      "[0, 3, 8, 15, 24]\n"
     ]
    }
   ],
   "source": [
    "#1.กำหนดให้ lst =[1,2,3,4,5] จงเขียน List Comprehension เพื่อนำทุกตัวใน lst ไปคุณกับ 2 และลบด้วย 1 ดพร้อมกับแสดงผล\n",
    "lst =[1,2,3,4,5]\n",
    "lst2 =[((x**2)-1) for x in lst if x%x == 0 ]\n",
    "\n",
    "print(lst2)"
   ]
  },
  {
   "cell_type": "code",
   "execution_count": 53,
   "metadata": {},
   "outputs": [
    {
     "name": "stdout",
     "output_type": "stream",
     "text": [
      "[1, 8, 64, 125]\n"
     ]
    }
   ],
   "source": [
    "#2.กำหนดให้ lst =[1,2,3,4,5] จงเขียน List Comprehension เพื่อหาตัวที่หาร 3 ไม่ลงตัว และนำผลลัพธ์นั้นยกกำลังสาม พร้อมแสดงผล\n",
    "lst =[1,2,3,4,5]\n",
    "lst2 =[x**3 for x in lst if x%3 != 0 ]\n",
    "print(lst2)"
   ]
  },
  {
   "cell_type": "markdown",
   "metadata": {},
   "source": [
    "### Quiz7\n",
    "1.จงเขียนโปรแกรมตรวจสอบคะแนนเด็กนักเรียน ถ้าเด็กได้คะแนนมากกว่า 80 เกรด A มาก\n",
    "กว่า 70 เกรด B มากกว่า 60 เกรด C มากกว่า 50 เกรด D และต่ำกว่า 50 เกรด F"
   ]
  },
  {
   "cell_type": "code",
   "execution_count": 59,
   "metadata": {},
   "outputs": [
    {
     "name": "stdout",
     "output_type": "stream",
     "text": [
      "Grade A\n"
     ]
    }
   ],
   "source": [
    "# p = คะแนน\n",
    "p = 80\n",
    "if (p >= 80):\n",
    "    print('Grade A')\n",
    "elif (70 < p < 80):\n",
    "    print('Grade B')\n",
    "elif(60 < p < 70):\n",
    "    print('Grade C')\n",
    "elif(50 < p < 60):\n",
    "    print('Grade D')   \n",
    "else :\n",
    "    print('Grade F')"
   ]
  },
  {
   "cell_type": "markdown",
   "metadata": {},
   "source": [
    "### Quiz8\n",
    "1.กำหนดให้ A = [1, 2, 3, 4, 5] และ B = [2, 3, 1, 3, 2] จงเขียน Map แบบ Multiple-list\n",
    "operations โดยให้ B ยกกำลังด้วย A พร้อมกับแสดงผล\n",
    "\n",
    "2.จงเขียนชื่อนักเรียน เลขที่ และคะแนนสอบไฟนอล พร้อมกับใช้คำสั่ง Zip() ในการจับคู่\n",
    "พร้อมกับแสดงผลลัพธ์ที่ถูกต้อง"
   ]
  },
  {
   "cell_type": "code",
   "execution_count": 60,
   "metadata": {},
   "outputs": [
    {
     "name": "stdout",
     "output_type": "stream",
     "text": [
      "[1, 8, 3, 64, 25]\n"
     ]
    }
   ],
   "source": [
    "A = [1, 2, 3, 4, 5]\n",
    "B = [2, 3, 1, 3, 2]\n",
    "\n",
    "result = map(lambda x, y: x**y ,A,B)\n",
    "print(list(result))"
   ]
  },
  {
   "cell_type": "code",
   "execution_count": 62,
   "metadata": {},
   "outputs": [
    {
     "name": "stdout",
     "output_type": "stream",
     "text": [
      "[('tom', 'no.1', 80), ('alin', 'no.2', 95)]\n"
     ]
    }
   ],
   "source": [
    "name = ['tom','alin']\n",
    "no = ['no.1','no.2']\n",
    "point = [80,95]\n",
    "\n",
    "mapped = list(zip(name,no,point))\n",
    "print(mapped)"
   ]
  },
  {
   "cell_type": "markdown",
   "metadata": {},
   "source": [
    "### Quiz9\n",
    "1.กำหนดให้ lst = [5, 2, 1, 3, 2] จงเขียนฟังก์ชั่น Reduce เพื่อหาผลลัพท์สุดท้ายของ\n",
    "ดำเนินการแบบเลขยกกำลัง\n",
    "\n",
    "2.กำหนดให้ lst = [1,2,3,4,5,6,7,8,9,10] จงเขียนฟังก์ชั่น Reduce เพื่อหาผลลัพท์สุดท้าย\n",
    "ของดำเนินการแบบการคูณ"
   ]
  },
  {
   "cell_type": "code",
   "execution_count": 64,
   "metadata": {},
   "outputs": [
    {
     "name": "stdout",
     "output_type": "stream",
     "text": [
      "244140625\n"
     ]
    }
   ],
   "source": [
    "from functools import reduce\n",
    "lst = [5, 2, 1, 3, 2]\n",
    "sum = reduce((lambda x, y:x**y ),lst)\n",
    "print(sum)"
   ]
  },
  {
   "cell_type": "code",
   "execution_count": 65,
   "metadata": {},
   "outputs": [
    {
     "name": "stdout",
     "output_type": "stream",
     "text": [
      "3628800\n"
     ]
    }
   ],
   "source": [
    "from functools import reduce\n",
    "lst = [1,2,3,4,5,6,7,8,9,10]\n",
    "sum = reduce((lambda x, y:x*y ),lst)\n",
    "print(sum)"
   ]
  },
  {
   "cell_type": "code",
   "execution_count": null,
   "metadata": {},
   "outputs": [],
   "source": []
  }
 ],
 "metadata": {
  "kernelspec": {
   "display_name": "Python 3",
   "language": "python",
   "name": "python3"
  },
  "language_info": {
   "codemirror_mode": {
    "name": "ipython",
    "version": 3
   },
   "file_extension": ".py",
   "mimetype": "text/x-python",
   "name": "python",
   "nbconvert_exporter": "python",
   "pygments_lexer": "ipython3",
   "version": "3.7.4"
  }
 },
 "nbformat": 4,
 "nbformat_minor": 2
}
