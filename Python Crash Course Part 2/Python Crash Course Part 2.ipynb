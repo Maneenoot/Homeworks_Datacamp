{
 "cells": [
  {
   "cell_type": "markdown",
   "metadata": {},
   "source": [
    "# Quizzzz โจทย์ฝึกท้ายบทเรียน"
   ]
  },
  {
   "cell_type": "markdown",
   "metadata": {},
   "source": [
    "1.เขียนโปรแกรมรับ input จากผู้ใช้ 1 ตัว แปลงให้เป็น int และตรวจสอบว่าเป็นเลขคี่หรือคู่\n",
    "- หากเป็นคู่ ให้พิมพ์ว่าเลขคู่\n",
    "- หากเป็นคี่ ให้พิมพ์ว่าเลขคี่\n",
    "- หากเป็นศูนย์ให้พิมพ์ว่า เลขศูนย์"
   ]
  },
  {
   "cell_type": "code",
   "execution_count": 1,
   "metadata": {},
   "outputs": [
    {
     "name": "stdout",
     "output_type": "stream",
     "text": [
      "ใส่ตัวเลข: 4\n",
      "เลขคู่\n"
     ]
    }
   ],
   "source": [
    "number =int(input('ใส่ตัวเลข: '))\n",
    "if number == 0:\n",
    "    print('เลขศูนย์')\n",
    "elif number % 2 == 0:\n",
    "    print('เลขคู่')\n",
    "elif number %2 != 0:\n",
    "    print('เลขคี่')\n",
    "else :\n",
    "    print('Try again')"
   ]
  },
  {
   "cell_type": "markdown",
   "metadata": {},
   "source": [
    "2.เขียนโปรแกรมรับค่า input2ตัว ในรูปแบบ float โดยให้ตัวแรกเป็นตัวตั้งตัวที่สองเป็นตัวหาร\n",
    "- หาผลลัพธ์ของการหาร\n",
    "- ใส่เลขทศนิยมได้\n",
    "- ถ้าตัวหารเป็น 0 ให้รับค่าใหม่จนกว่าจะเป็นเลขที่หารได้"
   ]
  },
  {
   "cell_type": "code",
   "execution_count": 2,
   "metadata": {},
   "outputs": [
    {
     "name": "stdout",
     "output_type": "stream",
     "text": [
      "input number1: 7\n",
      "input number2: 8\n",
      "sum:  0.875\n"
     ]
    }
   ],
   "source": [
    "num1=float(input('input number1: '))\n",
    "num2=float(input('input number2: '))\n",
    "if num2 ==0:\n",
    "    print('input number2 again')\n",
    "    num2=float(input('input number2: '))\n",
    "    sum = num1/num2\n",
    "    print('sum: ',sum)\n",
    "else:\n",
    "    sum = num1/num2\n",
    "    print('sum: ',sum)"
   ]
  },
  {
   "cell_type": "markdown",
   "metadata": {},
   "source": [
    "3.เขียนโปรแกรม infinity while loop โดยรับค่า input มาเรื่อยๆจนกว่าผู้ใช้จะใส่เลข 0 และนำเลขทั้งหมดมาหารเฉลี่ย"
   ]
  },
  {
   "cell_type": "code",
   "execution_count": 3,
   "metadata": {},
   "outputs": [
    {
     "name": "stdout",
     "output_type": "stream",
     "text": [
      "input your number: 4\n",
      "4\n",
      "input your number: 2\n",
      "2\n",
      "input your number: 7\n",
      "7\n",
      "input your number: 9\n",
      "9\n",
      "input your number: 0\n",
      "0\n",
      "Average: 4.40 \n"
     ]
    }
   ],
   "source": [
    "sum = 0\n",
    "number = 1\n",
    "i=1\n",
    "\n",
    "while number != 0:\n",
    "    number = int(input('input your number: '))\n",
    "    print(number)\n",
    "    sum = sum + number\n",
    "    i += 1\n",
    "    avg = sum/(i-1)    \n",
    "\n",
    "print('Average: %.2f ' %(avg)) "
   ]
  },
  {
   "cell_type": "markdown",
   "metadata": {},
   "source": [
    "4. เขียนโปรมแกรมรับค่า input ที่เป็น integer มาหนึ่งตัว ตรวจสอบว่าเลขนั้นหาร 7 ลงตัวหรือไม่\n",
    " - ถ้าหารลงตัว ให้ปริ้น ‘หาร 7 ลงตัว’\n",
    " - ถ้าหารไม่ลงตัว ให้ปริ้น ‘หาร 7 ไม่ลงตัว’"
   ]
  },
  {
   "cell_type": "code",
   "execution_count": 4,
   "metadata": {},
   "outputs": [
    {
     "name": "stdout",
     "output_type": "stream",
     "text": [
      "input number: 6\n",
      "หาร 7 ไม่ลงตัว\n"
     ]
    }
   ],
   "source": [
    "num=int(input('input number: '))\n",
    "if num % 7 != 0:\n",
    "    print('หาร 7 ไม่ลงตัว')\n",
    "else :\n",
    "    print('หาร 7 ลงตัว')"
   ]
  },
  {
   "cell_type": "markdown",
   "metadata": {},
   "source": [
    "5. เขียนโปรแกรมรับค่า int มา 3 จำนวน และตรวจสอบว่า 3 เลขนั้นสามารถนำมาสร้าง 3 เหลี่ยมมุมฉากได้หรือไม่"
   ]
  },
  {
   "cell_type": "code",
   "execution_count": 5,
   "metadata": {},
   "outputs": [
    {
     "name": "stdout",
     "output_type": "stream",
     "text": [
      "input side a: 6\n",
      "input side b: 5\n",
      "input side c: 4\n",
      "Can not create Right Triangle\n"
     ]
    }
   ],
   "source": [
    "a=int(input('input side a: '))\n",
    "b=int(input('input side b: '))\n",
    "c=int(input('input side c: '))\n",
    "if (a*a)+(b*b) == (c**2):\n",
    "    print(\"Ok can create Right Triangle\")\n",
    "else:\n",
    "    print(\"Can not create Right Triangle\")\n"
   ]
  },
  {
   "cell_type": "markdown",
   "metadata": {},
   "source": [
    "6. เขียนโปรแกรมรับค่า int มา 3 จำนวน และตรวจสอบว่าเมื่อนำ 3 เลขนั้นมาสร้าง 3 เหลี่ยม จะได้สามเหลี่ยมแบบใด\n",
    " - สามเหลี่ยมมุมแหลม\n",
    " - สามเหลี่ยมมุมป้าน\n",
    " - สามเหลี่ยมมุมฉาก"
   ]
  },
  {
   "cell_type": "code",
   "execution_count": 6,
   "metadata": {},
   "outputs": [
    {
     "ename": "SyntaxError",
     "evalue": "invalid syntax (<ipython-input-6-cf78b5f7301b>, line 6)",
     "output_type": "error",
     "traceback": [
      "\u001b[1;36m  File \u001b[1;32m\"<ipython-input-6-cf78b5f7301b>\"\u001b[1;36m, line \u001b[1;32m6\u001b[0m\n\u001b[1;33m    elif:\u001b[0m\n\u001b[1;37m        ^\u001b[0m\n\u001b[1;31mSyntaxError\u001b[0m\u001b[1;31m:\u001b[0m invalid syntax\n"
     ]
    }
   ],
   "source": [
    "a=int(input('input side a: '))\n",
    "b=int(input('input side b: '))\n",
    "c=int(input('input side c: '))\n",
    "if (a*a)+(b*b)== (c**2):\n",
    "    print(\"สามเหลี่ยมมุมฉาก\")\n",
    "elif:\n",
    "    print(\"สามเหลี่ยมมุมป้าน\")    \n",
    "else:\n",
    "    print(\"สามเหลี่ยมมุมแหลม\")"
   ]
  },
  {
   "cell_type": "markdown",
   "metadata": {},
   "source": [
    "7. เขียนโปรแกรมให้รับค่าอาหาร 3 ครั้งที่ไปทานอาหารนอกบ้านล่าสุดโดยแต่ละครั้งต้องไม่ต่ำกว่า 1,000 และไม่เกิน 5,000 (ผู้ใช้ต้องใส่อยู่ในช่วงนี้) และนำค่าอาหารทั้ง 3 ครั้งมาบวกกัน หากเกิน 6,000 บาท จะได้รับส่วนลด 15% หากเกิน 12,000 จะได้รับส่วนลด 25% จงหายอดเงินสุดท้ายที่ต้องจ่าย"
   ]
  },
  {
   "cell_type": "code",
   "execution_count": 7,
   "metadata": {},
   "outputs": [
    {
     "name": "stdout",
     "output_type": "stream",
     "text": [
      "input price1: 2000\n",
      "input price2: 5000\n",
      "input price3: 4000\n",
      "discount 15%: Pay 9,350.00 bath \n"
     ]
    }
   ],
   "source": [
    "p1=int(input('input price1: '))\n",
    "p2=int(input('input price2: '))\n",
    "p3=int(input('input price3: '))\n",
    "\n",
    "re = p1+p2+p3\n",
    "\n",
    "if re >12000:\n",
    "    d25=(re-((re*25)/100))\n",
    "    print(\"discount 25%: Pay {:,.2f} bath \".format(d25))\n",
    "elif re>= 6000 and re <=12000:\n",
    "    d15=(re-((re*15)/100))\n",
    "    print(\"discount 15%: Pay {:,.2f} bath \".format(d15))\n",
    "else:\n",
    "    print(\"Pay {:,.2f} bath\".format(re))\n",
    "    \n",
    "    "
   ]
  },
  {
   "cell_type": "markdown",
   "metadata": {},
   "source": [
    "8. เขียนโปรแกรมให้รับค่าอาหาร 4 ครั้งที่ไปทานอาหารนอกบ้านล่าสุดโดยแต่ละครั้งต้องไม่ต่ำกว่า 1,000 และไม่เกิน 5,000 (ผู้ใช้ต้องใส่อยู่ในช่วงนี้) และนำค่าอาหาร 3 ครั้งแรกมาบวกกัน หากเกิน 6,000 บาท จะได้รับส่วนลด 15% หากเกิน 12,000 จะได้รับส่วนลด 25% ของมื้อที่ 4 จงหายอดเงินสุดท้ายที่ต้องจ่ายของมื้อที่ 4"
   ]
  },
  {
   "cell_type": "code",
   "execution_count": 8,
   "metadata": {},
   "outputs": [
    {
     "name": "stdout",
     "output_type": "stream",
     "text": [
      "input price1: 5000\n",
      "input price2: 4000\n",
      "input price3: 4000\n",
      "input price4: 3000\n",
      "discount 25%: Pay p4 2,250.00 bath \n"
     ]
    }
   ],
   "source": [
    "p1=int(input('input price1: '))\n",
    "p2=int(input('input price2: '))\n",
    "p3=int(input('input price3: '))\n",
    "p4=int(input('input price4: '))\n",
    "\n",
    "re = p1+p2+p3\n",
    "\n",
    "if re >12000:\n",
    "    d25=(p4-((p4*25)/100))\n",
    "    print(\"discount 25%: Pay p4 {:,.2f} bath \".format(d25))\n",
    "elif re>= 6000 and re <=12000:\n",
    "    d15=(p4-((p4*15)/100))\n",
    "    print(\"discount 15%: Pay p4 {:,.2f} bath \".format(d15))\n",
    "else:\n",
    "    print(\"Pay p4 {:,.2f} bath\".format(p4))"
   ]
  },
  {
   "cell_type": "markdown",
   "metadata": {},
   "source": [
    "9. เขียนโปรแกรมให้รับค่าอาหาร 4 ครั้งที่ไปทานอาหารนอกบ้านล่าสุดโดยแต่ละครั้งต้องไม่ต่ำกว่า 1,000 และไม่เกิน 5,000 (เขียนให้ผู้ใช้ใส่ใหม่หากไม่อยู่ในช่วงที่กำหนด) และนำค่าอาหาร 3 ครั้งแรกมาบวกกันหากเกิน 4,000 บาท จะได้รับส่วนลด 25% หากเกิน 9,000 จะได้รับส่วนลด 30% ของมื้อที่ 4 จงหายอดเงินสุดท้ายที่ต้องจ่ายของมื้อที่ 4"
   ]
  },
  {
   "cell_type": "code",
   "execution_count": 9,
   "metadata": {},
   "outputs": [
    {
     "name": "stdout",
     "output_type": "stream",
     "text": [
      "input price1 ไม่ต่ำกว่า 1,000 และไม่เกิน 5,000: 100\n",
      "input price1 ไม่ต่ำกว่า 1,000 และไม่เกิน 5,000: 2000\n",
      "input price2 ไม่ต่ำกว่า 1,000 และไม่เกิน 5,000: 3000\n",
      "input price3 ไม่ต่ำกว่า 1,000 และไม่เกิน 5,000: 2000\n",
      "input price4 ไม่ต่ำกว่า 1,000 และไม่เกิน 5,000: 3000\n",
      "discount 25%: Pay p4 2,250.00 bath \n"
     ]
    }
   ],
   "source": [
    "def P1():\n",
    "    p1=int(input('input price1 ไม่ต่ำกว่า 1,000 และไม่เกิน 5,000: '))\n",
    "    while (p1> 5000 or p1 <1000):\n",
    "        p1=int(input('input price1 ไม่ต่ำกว่า 1,000 และไม่เกิน 5,000: '))\n",
    "    return p1\n",
    "    \n",
    "def P2():\n",
    "    p2=int(input('input price2 ไม่ต่ำกว่า 1,000 และไม่เกิน 5,000: '))\n",
    "    while (p2> 5000 or p2 <1000):\n",
    "        p2=int(input('input price2 again ไม่ต่ำกว่า 1,000 และไม่เกิน 5,000: '))\n",
    "    return p2\n",
    "    \n",
    "def P3():\n",
    "    p3=int(input('input price3 ไม่ต่ำกว่า 1,000 และไม่เกิน 5,000: '))\n",
    "    while (p3> 5000 or p3 <1000):\n",
    "        p3=int(input('input price3 again ไม่ต่ำกว่า 1,000 และไม่เกิน 5,000: '))\n",
    "    return p3\n",
    "        \n",
    "def P4():\n",
    "    p4=int(input('input price4 ไม่ต่ำกว่า 1,000 และไม่เกิน 5,000: '))\n",
    "    while (p4> 5000 or p4 <1000):\n",
    "        p4=int(input('input price4 again ไม่ต่ำกว่า 1,000 และไม่เกิน 5,000: '))\n",
    "    return p4\n",
    "######################################################    \n",
    "def cal():\n",
    "    p1=P1()\n",
    "    p2=P2()\n",
    "    p3=P3()\n",
    "    p4=P4()\n",
    "    re = p1+p2+p3\n",
    "\n",
    "    if re >9000:\n",
    "        d30=(p4-((p4*30)/100))\n",
    "        print(\"discount 30%: Pay p4 {:,.2f} bath \".format(d30))\n",
    "    elif re>= 4000 or re <=9000:\n",
    "        d25=(p4-((p4*25)/100))\n",
    "        print(\"discount 25%: Pay p4 {:,.2f} bath \".format(d25))\n",
    "    else:\n",
    "        print(\"Pay p4 {:,.2f} bath\".format(p4))\n",
    "        \n",
    "cal()\n",
    "        \n",
    "        \n",
    "    \n"
   ]
  },
  {
   "cell_type": "markdown",
   "metadata": {},
   "source": [
    "10. เขียนโปรแกรมให้รับค่าอาหาร 4 ครั้งที่ไปทานอาหารนอกบ้านล่าสุดโดยแต่ละครั้งต้องไม่ต่ำกว่า 1,000 และไม่เกิน 5,000 (เขียนให้ผู้ใช้ใส่ใหม่หากไม่อยู่ในช่วงที่กำหนด) และถามผู้ใช้มีบัตรเครดิตหรือไม่(True/False) นำค่าอาหาร 3 ครั้งแรกมาบวกกัน หากเกิน 4,000 บาท จะได้รับส่วนลด 25% หากเกิน 9,000 จะได้รับส่วนลด 30% ของมื้อที่ 4หากมีบัตรเครดิต ลดเพิ่มอีก 5% จงหายอดเงินสุดท้ายที่ต้องจ่ายของมื้อที่ 4"
   ]
  },
  {
   "cell_type": "code",
   "execution_count": 11,
   "metadata": {},
   "outputs": [
    {
     "name": "stdout",
     "output_type": "stream",
     "text": [
      "input price1 ไม่ต่ำกว่า 1,000 และไม่เกิน 5,000: 4000\n",
      "input price2 ไม่ต่ำกว่า 1,000 และไม่เกิน 5,000: 7000\n",
      "input price2 again ไม่ต่ำกว่า 1,000 และไม่เกิน 5,000: 2000\n",
      "input price3 ไม่ต่ำกว่า 1,000 และไม่เกิน 5,000: 3000\n",
      "input price4 ไม่ต่ำกว่า 1,000 และไม่เกิน 5,000: 2000\n",
      "Do you have craditcard?  True/Falsey\n",
      "discount1 30%: Pay p4 1,400.00 bath \n"
     ]
    }
   ],
   "source": [
    "def P1():\n",
    "    p1=int(input('input price1 ไม่ต่ำกว่า 1,000 และไม่เกิน 5,000: '))\n",
    "    while (p1> 5000 or p1 <1000):\n",
    "        p1=int(input('input price1 ไม่ต่ำกว่า 1,000 และไม่เกิน 5,000: '))\n",
    "    return p1\n",
    "    \n",
    "def P2():\n",
    "    p2=int(input('input price2 ไม่ต่ำกว่า 1,000 และไม่เกิน 5,000: '))\n",
    "    while (p2> 5000 or p2 <1000):\n",
    "        p2=int(input('input price2 again ไม่ต่ำกว่า 1,000 และไม่เกิน 5,000: '))\n",
    "    return p2\n",
    "    \n",
    "def P3():\n",
    "    p3=int(input('input price3 ไม่ต่ำกว่า 1,000 และไม่เกิน 5,000: '))\n",
    "    while (p3> 5000 or p3 <1000):\n",
    "        p3=int(input('input price3 again ไม่ต่ำกว่า 1,000 และไม่เกิน 5,000: '))\n",
    "    return p3\n",
    "        \n",
    "def P4():\n",
    "    p4=int(input('input price4 ไม่ต่ำกว่า 1,000 และไม่เกิน 5,000: '))\n",
    "    while (p4> 5000 or p4 <1000):\n",
    "        p4=int(input('input price4 again ไม่ต่ำกว่า 1,000 และไม่เกิน 5,000: '))\n",
    "    return p4\n",
    "######################################################    \n",
    "def cal():\n",
    "    p1=P1()\n",
    "    p2=P2()\n",
    "    p3=P3()\n",
    "    p4=P4()\n",
    "    re = p1+p2+p3\n",
    "\n",
    "    if re >9000:\n",
    "        d30=(p4-((p4*30)/100))\n",
    "        cCard = bool(input('ผู้ใช้มีบัตรเครดิตหรือไม่  True=1 / False=0: '))\n",
    "        if cCard!=0:\n",
    "            d35=(p4-((p4*35)/100))\n",
    "            print(\"discount 35%: Pay p4 {:,.2f} bath \".format(d35))\n",
    "        else:\n",
    "            print(\"discount 30%: Pay p4 {:,.2f} bath \".format(d30))\n",
    "   # print(\"discount 30%: Pay p4 {:,.2f} bath \".format(d30))\n",
    "        \n",
    "    elif re >= 4000 or re <=9000:\n",
    "        d25=(p4-((p4*25)/100))\n",
    "        Card = bool(input('Do you have craditcard?  True/False'))\n",
    "        if Card!=0:\n",
    "            d30=(p4-((p4*30)/100))\n",
    "            print(\"discount1 30%: Pay p4 {:,.2f} bath \".format(d30))\n",
    "        else:\n",
    "            print(\"discount1 25%: Pay p4 {:,.2f} bath \".format(d25))\n",
    "    else:\n",
    "        print(\"Pay p4 {:,.2f} bath\".format(p4))\n",
    "        \n",
    "cal()"
   ]
  },
  {
   "cell_type": "code",
   "execution_count": 12,
   "metadata": {},
   "outputs": [
    {
     "name": "stdout",
     "output_type": "stream",
     "text": [
      "input price1 ไม่ต่ำกว่า 1,000 และไม่เกิน 5,000: 4000\n",
      "input price2 ไม่ต่ำกว่า 1,000 และไม่เกิน 5,000: 3000\n",
      "input price3 ไม่ต่ำกว่า 1,000 และไม่เกิน 5,000: 2000\n",
      "input price4 ไม่ต่ำกว่า 1,000 และไม่เกิน 5,000: 2000\n",
      "ผู้ใช้มีบัตรเครดิตหรือไม่  True/Falset\n",
      "True\n",
      "discount1 30%: Pay p4 600.00 bath \n"
     ]
    }
   ],
   "source": [
    "def P1():\n",
    "    p1=int(input('input price1 ไม่ต่ำกว่า 1,000 และไม่เกิน 5,000: '))\n",
    "    while (p1> 5000 or p1 <1000):\n",
    "        p1=int(input('input price1 ไม่ต่ำกว่า 1,000 และไม่เกิน 5,000: '))\n",
    "    return p1\n",
    "    \n",
    "def P2():\n",
    "    p2=int(input('input price2 ไม่ต่ำกว่า 1,000 และไม่เกิน 5,000: '))\n",
    "    while (p2> 5000 or p2 <1000):\n",
    "        p2=int(input('input price2 again ไม่ต่ำกว่า 1,000 และไม่เกิน 5,000: '))\n",
    "    return p2\n",
    "    \n",
    "def P3():\n",
    "    p3=int(input('input price3 ไม่ต่ำกว่า 1,000 และไม่เกิน 5,000: '))\n",
    "    while (p3> 5000 or p3 <1000):\n",
    "        p3=int(input('input price3 again ไม่ต่ำกว่า 1,000 และไม่เกิน 5,000: '))\n",
    "    return p3\n",
    "        \n",
    "def P4():\n",
    "    p4=int(input('input price4 ไม่ต่ำกว่า 1,000 และไม่เกิน 5,000: '))\n",
    "    while (p4> 5000 or p4 <1000):\n",
    "        p4=int(input('input price4 again ไม่ต่ำกว่า 1,000 และไม่เกิน 5,000: '))\n",
    "    return p4\n",
    "######################################################    \n",
    "def cal():\n",
    "    p1=P1()\n",
    "    p2=P2()\n",
    "    p3=P3()\n",
    "    p4=P4()\n",
    "    re = p1+p2+p3\n",
    "\n",
    "    if re >9000:\n",
    "        d30= p4*0.30\n",
    "        cCard = bool(input('ผู้ใช้มีบัตรเครดิตหรือไม่  True=1 / False=0: '))\n",
    "        if cCard!=0:\n",
    "            d35=p4*0.35\n",
    "            print(\"discount 35%: Pay p4 {:,.2f} bath \".format(d35))\n",
    "        else:\n",
    "            print(\"discount 30%: Pay p4 {:,.2f} bath \".format(d30))\n",
    "   \n",
    "        \n",
    "    elif re >= 4000 or re <=9000:\n",
    "        d25= p4*0.25\n",
    "        cCard = bool(input('ผู้ใช้มีบัตรเครดิตหรือไม่  True/False'))\n",
    "        if cCard!=0:\n",
    "            print(cCard)\n",
    "            d30=p4*0.30\n",
    "            print(\"discount1 30%: Pay p4 {:,.2f} bath \".format(d30))\n",
    "        else:\n",
    "            print(\"discount1 25%: Pay p4 {:,.2f} bath \".format(d25))\n",
    "    else:\n",
    "        print(\"Pay p4 {:,.2f} bath\".format(p4))\n",
    "        \n",
    "cal()"
   ]
  },
  {
   "cell_type": "markdown",
   "metadata": {},
   "source": [
    "11. จงเขียนโปรแกรมรับ input ที่เป็นประโยคแบบ string ที่มีความยาวของคำไม่ต่ำกว่า 7 ตัวอักษรภาษาอังกฤษ(สมมติว่าเป็นคำเดียว) และมีพิมพ์ใหญ่พิมพ์เล็กปนกัน จากนั้นให้ตรวจสอบแต่ละอักษร ให้แปลงพิมพ์ใหญ่เป็นพิมพ์เล็ก และพิมพ์เล็กเป็นพิมพ์ใหญ่พร้อมกับปริ้นออกมา"
   ]
  },
  {
   "cell_type": "code",
   "execution_count": 13,
   "metadata": {},
   "outputs": [
    {
     "name": "stdout",
     "output_type": "stream",
     "text": [
      "String 7\n",
      "ความยาวตัวอักษร   1\n",
      "Uppercase   7\n",
      "Lowercase   7\n"
     ]
    }
   ],
   "source": [
    "\n",
    "a=input('String ')\n",
    "print('ความยาวตัวอักษร  ',len(a))\n",
    "print('Uppercase  ',a.upper())\n",
    "print('Lowercase  ',a.lower())"
   ]
  },
  {
   "cell_type": "markdown",
   "metadata": {},
   "source": [
    "12. เขียนโปรแกรมรับ input 4 ตัวที่เป็น string จากนั้นตรวจสอบว่าinput ใดมีความยาวมากที่สุด รองลงมา และน้อยที่สุด จากนั้น ปริ้นแต่ละinput ออกมาตามลำดับน้อยสุดไปมากสุด"
   ]
  },
  {
   "cell_type": "code",
   "execution_count": 14,
   "metadata": {},
   "outputs": [
    {
     "name": "stdout",
     "output_type": "stream",
     "text": [
      "String iii\n",
      "String2 dfj\n",
      "String3 mjiik\n",
      "String4 AAA\n",
      "ความยาวตัวอักษร   3 3 5 3\n",
      "Uppercase   III\n",
      "Lowercase   iii\n",
      "(3, 3, 5, 3)\n"
     ]
    }
   ],
   "source": [
    "a=input('String ')\n",
    "a2=input('String2 ')\n",
    "a3=input('String3 ')\n",
    "a4=input('String4 ')\n",
    "print('ความยาวตัวอักษร  ',len(a),len(a2),len(a3),len(a4))\n",
    "print('Uppercase  ',a.upper())\n",
    "print('Lowercase  ',a.lower())\n",
    "z = (len(a),len(a2),len(a3),len(a4))\n",
    "z1 = (a,a2,a3,a4)\n",
    "sorted(z)\n",
    "sorted(z1)\n",
    "print(z)\n"
   ]
  },
  {
   "cell_type": "markdown",
   "metadata": {},
   "source": [
    "13. เขียนโปรแกรมรับ input สองตัวเป็นจำนวนเต็มระหว่าง 0-60 โดยตัวแรกเป็นชั่วโมงและตัวที่สองเป็นนาที คำนวณค่าที่จอดรถถ้าชั่วโมงละ150 บาท เศษนาทีคิดเป็นนาทีละ 2 บาท"
   ]
  },
  {
   "cell_type": "code",
   "execution_count": 15,
   "metadata": {},
   "outputs": [
    {
     "name": "stdout",
     "output_type": "stream",
     "text": [
      "number between 0-60: 60\n",
      "number between 0-60: 40\n",
      "1.00 hr\n",
      "40.00 S\n",
      "Pay 230.00 bath\n"
     ]
    }
   ],
   "source": [
    "pa1=int(input('number between 0-60: '))\n",
    "pa2=int(input('number between 0-60: '))\n",
    "\n",
    "s = pa1/60\n",
    "print (('{:,.2f} hr').format(s))\n",
    "s2 = pa2\n",
    "print (('{:,.2f} S').format(s2))\n",
    "\n",
    "sum1 = ((s*150)+(s2*2))\n",
    "print (('Pay {:,.2f} bath').format(sum1))"
   ]
  },
  {
   "cell_type": "markdown",
   "metadata": {},
   "source": [
    "14. เขียนโปรแกรมรับ input สองตัวเป็นจำนวนเต็มระหว่าง 0-60 โดยตัวแรกเป็นชั่วโมงและตัวที่สองเป็นนาที คำนวณค่าที่จอดรถถ้าชั่วโมงละ300 บาท เศษนาทีเกิน 15 นาทีคิดเป็นหนึ่งชั่วโมง หากไม่เกินไม่คิดเงินและชั่วโมงแรกจอดฟรี"
   ]
  },
  {
   "cell_type": "code",
   "execution_count": null,
   "metadata": {},
   "outputs": [],
   "source": []
  },
  {
   "cell_type": "markdown",
   "metadata": {},
   "source": [
    "15. โรงละครสัตว์มีนก กับ วัว และต้องจ่ายภาษีสัตว์ 2 ขา 150 บาทต่อตัวจ่ายภาษีสัตว์ 4 ขา 220 บาทต่อตัว เขียนโปรแกรมรับค่า input สองตัวตัวแรกเป็นผลรวมจำนวนหัวของสัตว์ ตัวสองเป็นผลรวมจำนวนขาของสัตว์ จงหาว่าโรงละครสัตว์ต้องจ่ายภาษีเท่าใด"
   ]
  },
  {
   "cell_type": "code",
   "execution_count": null,
   "metadata": {},
   "outputs": [],
   "source": []
  },
  {
   "cell_type": "code",
   "execution_count": null,
   "metadata": {},
   "outputs": [],
   "source": []
  }
 ],
 "metadata": {
  "kernelspec": {
   "display_name": "Python 3",
   "language": "python",
   "name": "python3"
  },
  "language_info": {
   "codemirror_mode": {
    "name": "ipython",
    "version": 3
   },
   "file_extension": ".py",
   "mimetype": "text/x-python",
   "name": "python",
   "nbconvert_exporter": "python",
   "pygments_lexer": "ipython3",
   "version": "3.7.4"
  }
 },
 "nbformat": 4,
 "nbformat_minor": 2
}
